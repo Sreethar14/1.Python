{
 "cells": [
  {
   "cell_type": "code",
   "execution_count": 1,
   "id": "1f1a5d13",
   "metadata": {},
   "outputs": [
    {
     "name": "stdout",
     "output_type": "stream",
     "text": [
      "Welcome to Assignment-1\n"
     ]
    }
   ],
   "source": [
    "print(\"Welcome to Assignment-1\")"
   ]
  },
  {
   "cell_type": "code",
   "execution_count": 2,
   "id": "0d5d9d2b",
   "metadata": {},
   "outputs": [
    {
     "name": "stdout",
     "output_type": "stream",
     "text": [
      "Num1= 10\n",
      "Num2= 30\n",
      "Add= 40\n"
     ]
    }
   ],
   "source": [
    "Num1=10\n",
    "Num2=30\n",
    "add=Num1+Num2\n",
    "print(\"Num1=\",Num1)\n",
    "print(\"Num2=\",Num2)\n",
    "print(\"Add=\",add)"
   ]
  },
  {
   "cell_type": "code",
   "execution_count": 3,
   "id": "17df3e20",
   "metadata": {},
   "outputs": [
    {
     "name": "stdout",
     "output_type": "stream",
     "text": [
      "Enter the BMI Index34\n",
      "Underweight\n"
     ]
    }
   ],
   "source": [
    "BMI=int(input(\"Enter the BMI Index\"))\n",
    "if(\"BMI<18.5\"):\n",
    "    print(\"Underweight\")\n",
    "elif(\"BMI<24.9\"):\n",
    "    print(\"Normal\")\n",
    "elif(\"BMI<29.9\"):\n",
    "    print(\"Overweight\")\n",
    "else:\n",
    "    print(\"Very Overweight\")"
   ]
  },
  {
   "cell_type": "code",
   "execution_count": 4,
   "id": "3c7b8dd7",
   "metadata": {},
   "outputs": [
    {
     "name": "stdout",
     "output_type": "stream",
     "text": [
      "Hope AI\n"
     ]
    }
   ],
   "source": [
    "print(\"Hope AI\")"
   ]
  },
  {
   "cell_type": "code",
   "execution_count": 5,
   "id": "a8b64661",
   "metadata": {},
   "outputs": [
    {
     "name": "stdout",
     "output_type": "stream",
     "text": [
      "Enter your institute name? : Hope AI\n"
     ]
    }
   ],
   "source": [
    "name= input('Enter your institute name? : ')"
   ]
  },
  {
   "cell_type": "code",
   "execution_count": 6,
   "id": "65c42824",
   "metadata": {},
   "outputs": [
    {
     "name": "stdout",
     "output_type": "stream",
     "text": [
      "Enter your name: Sreethar\n",
      "Enter your age: 34\n",
      "Enter your school name:Tagore Matric Hr.Sec School\n",
      "Enter your degree: BE Mechanical Engineering\n"
     ]
    }
   ],
   "source": [
    "name = input('Enter your name: ')\n",
    "age = input('Enter your age: ')\n",
    "school = input('Enter your school name:')\n",
    "degree = input('Enter your degree: ')"
   ]
  },
  {
   "cell_type": "code",
   "execution_count": 7,
   "id": "45d90408",
   "metadata": {},
   "outputs": [
    {
     "name": "stdout",
     "output_type": "stream",
     "text": [
      "a= 55\n",
      "b=45\n",
      "add = 100\n"
     ]
    }
   ],
   "source": [
    "#Addition\n",
    "num1=int(input(\"a= \"))\n",
    "num2=int(input(\"b=\"))\n",
    "print(\"add =\", num1+num2)"
   ]
  },
  {
   "cell_type": "code",
   "execution_count": 8,
   "id": "32c1f6dd",
   "metadata": {},
   "outputs": [
    {
     "name": "stdout",
     "output_type": "stream",
     "text": [
      "a =55\n",
      "b =34\n",
      "sub = 21\n"
     ]
    }
   ],
   "source": [
    "#Subtraction\n",
    "num1=int(input(\"a =\"))\n",
    "num2=int(input(\"b =\"))\n",
    "print(\"sub =\", num1-num2)"
   ]
  },
  {
   "cell_type": "code",
   "execution_count": 9,
   "id": "97ad3491",
   "metadata": {},
   "outputs": [
    {
     "name": "stdout",
     "output_type": "stream",
     "text": [
      "a= 84\n",
      "b= 32\n",
      "mul = 2688\n"
     ]
    }
   ],
   "source": [
    "#Multiplication\n",
    "num1 = int(input(\"a= \"))\n",
    "num2 = int(input(\"b= \"))\n",
    "print(\"mul =\", num1*num2)"
   ]
  },
  {
   "cell_type": "code",
   "execution_count": 10,
   "id": "558e634a",
   "metadata": {},
   "outputs": [
    {
     "name": "stdout",
     "output_type": "stream",
     "text": [
      "a= 84\n",
      "b= 32\n",
      "Float Div = 2.625\n"
     ]
    }
   ],
   "source": [
    "#Division\n",
    "num1 = int(input(\"a= \"))\n",
    "num2 = int(input(\"b= \"))\n",
    "print(\"Float Div =\",num1/num2)"
   ]
  },
  {
   "cell_type": "code",
   "execution_count": 11,
   "id": "c10a5cea",
   "metadata": {},
   "outputs": [
    {
     "name": "stdout",
     "output_type": "stream",
     "text": [
      "a= 85\n",
      "b= 45\n",
      "Floor Div = 1\n"
     ]
    }
   ],
   "source": [
    "#Floor division\n",
    "num1 = int(input(\"a= \"))\n",
    "num2 =int(input(\"b= \"))\n",
    "print(\"Floor Div =\", num1//num2)"
   ]
  },
  {
   "cell_type": "code",
   "execution_count": 12,
   "id": "433d828d",
   "metadata": {},
   "outputs": [
    {
     "name": "stdout",
     "output_type": "stream",
     "text": [
      "a= 8\n",
      "b= 8\n",
      "Power = 16777216\n"
     ]
    }
   ],
   "source": [
    "#Power\n",
    "num1 = int(input(\"a= \"))\n",
    "num2 = int(input(\"b= \"))\n",
    "print(\"Power =\",num1 ** num2)"
   ]
  },
  {
   "cell_type": "code",
   "execution_count": 13,
   "id": "4e4a4ef5",
   "metadata": {},
   "outputs": [
    {
     "name": "stdout",
     "output_type": "stream",
     "text": [
      "0\n",
      "1\n",
      "2\n",
      "3\n",
      "4\n",
      "5\n",
      "6\n",
      "7\n",
      "8\n",
      "9\n",
      "10\n",
      "11\n",
      "12\n",
      "13\n",
      "14\n",
      "15\n",
      "16\n",
      "17\n",
      "18\n",
      "19\n",
      "20\n",
      "21\n",
      "22\n",
      "23\n",
      "24\n"
     ]
    }
   ],
   "source": [
    "#print 0 to 25 by using range\n",
    "range(25)\n",
    "for temp in range(25):\n",
    "    print(temp)"
   ]
  },
  {
   "cell_type": "code",
   "execution_count": 14,
   "id": "ebe7a6f6",
   "metadata": {},
   "outputs": [
    {
     "name": "stdout",
     "output_type": "stream",
     "text": [
      "20 21 22 23 24 25 26 27 28 29 "
     ]
    }
   ],
   "source": [
    "#print range 20 to 30\n",
    "for i in range(20,30):\n",
    "    print(i, end=\" \")"
   ]
  },
  {
   "cell_type": "code",
   "execution_count": 15,
   "id": "6ad7069f",
   "metadata": {},
   "outputs": [
    {
     "name": "stdout",
     "output_type": "stream",
     "text": [
      "[10, 20, 14, 55, 77, 87, 96]\n",
      "Number of items in the List2: \n",
      "7\n"
     ]
    }
   ],
   "source": [
    "# Print number of items by using 'len'\n",
    "List2 = [10, 20, 14, 55 ,77, 87, 96 ]\n",
    "print(List2)\n",
    "print(\"Number of items in the List2: \")\n",
    "print(len(List2))"
   ]
  },
  {
   "cell_type": "code",
   "execution_count": 16,
   "id": "00cbff14",
   "metadata": {},
   "outputs": [
    {
     "name": "stdout",
     "output_type": "stream",
     "text": [
      "Artificial Intelligence\n",
      "A\n",
      "r\n",
      "t\n",
      "i\n",
      "f\n",
      "i\n",
      "c\n",
      "i\n",
      "a\n",
      "l\n",
      " \n",
      "I\n",
      "n\n",
      "t\n",
      "e\n",
      "l\n",
      "l\n",
      "i\n",
      "g\n",
      "e\n",
      "n\n",
      "c\n",
      "e\n"
     ]
    }
   ],
   "source": [
    "print(\"Artificial Intelligence\")\n",
    "s = \"Artificial Intelligence\"\n",
    "for i in s :\n",
    "    print(i)"
   ]
  },
  {
   "cell_type": "code",
   "execution_count": 17,
   "id": "01d5c423",
   "metadata": {},
   "outputs": [
    {
     "name": "stdout",
     "output_type": "stream",
     "text": [
      "-Your Name-\n",
      "Your Age-\n",
      "Your Profession-\n"
     ]
    }
   ],
   "source": [
    "list = [\"-Your Name-\", \"Your Age-\", \"Your Profession-\"]\n",
    "for i in list :\n",
    "    print(i)"
   ]
  },
  {
   "cell_type": "code",
   "execution_count": 18,
   "id": "7aed64c5",
   "metadata": {},
   "outputs": [
    {
     "name": "stdout",
     "output_type": "stream",
     "text": [
      "(1, 'welcome', 2, 'Hope')\n"
     ]
    }
   ],
   "source": [
    "Tuple = (1, 'welcome', 2, 'Hope')\n",
    "print(Tuple)"
   ]
  },
  {
   "cell_type": "code",
   "execution_count": 19,
   "id": "d2e32891",
   "metadata": {},
   "outputs": [
    {
     "name": "stdout",
     "output_type": "stream",
     "text": [
      "((0, 1, 2, 3), ('python', 'HOPE'))\n"
     ]
    }
   ],
   "source": [
    "Tuple1 = (0, 1, 2, 3)\n",
    "Tuple2 = ('python' , 'HOPE')\n",
    "Tuple3 = (Tuple1,Tuple2)\n",
    "print(Tuple3)"
   ]
  },
  {
   "cell_type": "code",
   "execution_count": 20,
   "id": "38027b82",
   "metadata": {},
   "outputs": [
    {
     "name": "stdout",
     "output_type": "stream",
     "text": [
      "(20,10,18,27,89,5,36)\n",
      "27 is odd\n",
      "89 is odd\n",
      "5 is odd\n"
     ]
    }
   ],
   "source": [
    "num=[20,10,18,27,89,5,36]\n",
    "print(\"(20,10,18,27,89,5,36)\")\n",
    "for i in num:\n",
    "    if i % 2 == 1:\n",
    "        print(i,\"is odd\")"
   ]
  },
  {
   "cell_type": "code",
   "execution_count": 22,
   "id": "7b5e38a1",
   "metadata": {},
   "outputs": [
    {
     "name": "stdout",
     "output_type": "stream",
     "text": [
      "(20,10,18,27,89,5,36)\n",
      "20 is odd\n",
      "10 is odd\n",
      "18 is odd\n",
      "36 is odd\n"
     ]
    }
   ],
   "source": [
    "num=[20,10,18,27,89,5,36]\n",
    "print(\"(20,10,18,27,89,5,36)\")\n",
    "for i in num:\n",
    "    if i % 2 == 0:\n",
    "        print(i,\"is odd\")"
   ]
  },
  {
   "cell_type": "code",
   "execution_count": 23,
   "id": "b54b62c1",
   "metadata": {},
   "outputs": [
    {
     "name": "stdout",
     "output_type": "stream",
     "text": [
      "Value: 10\n",
      "Correct\n"
     ]
    }
   ],
   "source": [
    "i = int(input(\"Value: \"))\n",
    "if (i == 10):\n",
    "    print(\"Correct\")\n",
    "else:\n",
    "    print(\"Wrong\")"
   ]
  },
  {
   "cell_type": "code",
   "execution_count": 24,
   "id": "1bc81b3c",
   "metadata": {},
   "outputs": [
    {
     "name": "stdout",
     "output_type": "stream",
     "text": [
      "Enter the password: Sree@145\n",
      "Your password is correct\n"
     ]
    }
   ],
   "source": [
    "password = input(\"Enter the password: \")\n",
    "if(password == \"Sree@145\" ):\n",
    "    print(\"Your password is correct\")\n",
    "else:\n",
    "    print(\"Your password is wrong, check your passsword\")"
   ]
  },
  {
   "cell_type": "code",
   "execution_count": 25,
   "id": "963c658f",
   "metadata": {},
   "outputs": [
    {
     "name": "stdout",
     "output_type": "stream",
     "text": [
      "age40\n",
      "Citizen\n"
     ]
    }
   ],
   "source": [
    "num = int(input(\"age\"))\n",
    "if (num <=18):\n",
    "    print(\"Children\")\n",
    "elif (num<=35):\n",
    "    print(\"Adult\")\n",
    "elif (num<=60):\n",
    "    print(\"Citizen\")\n",
    "else:\n",
    "    print(\"Senior Citizen\")"
   ]
  },
  {
   "cell_type": "code",
   "execution_count": 26,
   "id": "a91c2f42",
   "metadata": {},
   "outputs": [
    {
     "name": "stdout",
     "output_type": "stream",
     "text": [
      "Enter any number:5\n",
      "Number is Positive\n"
     ]
    }
   ],
   "source": [
    "n = int(input(\"Enter any number:\"))\n",
    "if n>0:\n",
    "    print(\"Number is Positive\")\n",
    "elif n<0:\n",
    "    print(\"Number is negative\")\n",
    "else:\n",
    "    print(\"Zero\")"
   ]
  },
  {
   "cell_type": "code",
   "execution_count": 27,
   "id": "6c598a7c",
   "metadata": {},
   "outputs": [
    {
     "name": "stdout",
     "output_type": "stream",
     "text": [
      "Enter a number to check:44\n",
      "Number is not divisible by 5\n"
     ]
    }
   ],
   "source": [
    "n = int(input(\"Enter a number to check:\"))\n",
    "if n%5==0:\n",
    "    print(\"Number is divisible by 5\")\n",
    "else:\n",
    "    print(\"Number is not divisible by 5\")"
   ]
  },
  {
   "cell_type": "code",
   "execution_count": 28,
   "id": "2ee4d48d",
   "metadata": {},
   "outputs": [],
   "source": [
    "class SubfieldsInAI():\n",
    "    def Subfields():\n",
    "        print(\"Sub-filelds in AI are:\")\n",
    "        List=['Machine Learninig','Neural Networks','Natural Language processing','Speech Processing']\n",
    "        for temp in List:\n",
    "            print(temp)"
   ]
  },
  {
   "cell_type": "code",
   "execution_count": 29,
   "id": "4008b51c",
   "metadata": {
    "scrolled": true
   },
   "outputs": [
    {
     "name": "stdout",
     "output_type": "stream",
     "text": [
      "Sub-filelds in AI are:\n",
      "Machine Learninig\n",
      "Neural Networks\n",
      "Natural Language processing\n",
      "Speech Processing\n"
     ]
    }
   ],
   "source": [
    "SubfieldsInAI.Subfields()"
   ]
  },
  {
   "cell_type": "code",
   "execution_count": 39,
   "id": "a63ab973",
   "metadata": {},
   "outputs": [],
   "source": [
    "class OddEven():\n",
    "  def OddEven():\n",
    "        num=int(input(\"Enter a number:\"))\n",
    "        if(num%2)==0:\n",
    "            print(\"{0}is Even number\".format(num))\n",
    "        else:\n",
    "            print(\"{0}is Odd number\".format(num))"
   ]
  },
  {
   "cell_type": "code",
   "execution_count": 40,
   "id": "33098959",
   "metadata": {
    "scrolled": false
   },
   "outputs": [
    {
     "name": "stdout",
     "output_type": "stream",
     "text": [
      "Enter a number:53452\n",
      "53452is Even number\n"
     ]
    }
   ],
   "source": [
    "OddEven.OddEven()"
   ]
  },
  {
   "cell_type": "code",
   "execution_count": 3,
   "id": "b89b6166",
   "metadata": {},
   "outputs": [],
   "source": [
    "class ElegiblityForMarriage():\n",
    "    def Elegible():\n",
    "        gender=input(\"Your Gender:\")\n",
    "        age=int(input(\"Your age\"))\n",
    "        \n",
    "        if(gender=='Male'):\n",
    "            if(age>=21):\n",
    "                print('ELIGIBLE')\n",
    "            else:\n",
    "                print('NOT ELIGIBLE')\n",
    "        elif(gender=='Female'):         \n",
    "            if(age>18):\n",
    "                    print('ELIGIBLE')\n",
    "            else:\n",
    "                print('NOT ELIGIBLE')"
   ]
  },
  {
   "cell_type": "code",
   "execution_count": 6,
   "id": "a77aecd4",
   "metadata": {},
   "outputs": [
    {
     "name": "stdout",
     "output_type": "stream",
     "text": [
      "Your Gender:Female\n",
      "Your age19\n",
      "ELIGIBLE\n"
     ]
    }
   ],
   "source": [
    "ElegiblityForMarriage.Elegible()"
   ]
  },
  {
   "cell_type": "code",
   "execution_count": 7,
   "id": "eccd19d3",
   "metadata": {},
   "outputs": [],
   "source": [
    "def percentage():\n",
    "    m1=int(input(\"Subject1=  \"))\n",
    "    m2=int(input(\"Subject2=  \"))\n",
    "    m3=int(input(\"Subject3=  \"))\n",
    "    m4=int(input(\"Subject4=  \"))\n",
    "    m5=int(input(\"Subject5=  \"))\n",
    "    Total = m1+m2+m3+m4+m5\n",
    "    print(\"Total: \" ,m1+m2+m3+m4+m5)\n",
    "    Percent = (Total / 500) * 100\n",
    "    print(\"Perentage : \",Percent) "
   ]
  },
  {
   "cell_type": "code",
   "execution_count": 8,
   "id": "7ac7a9f7",
   "metadata": {},
   "outputs": [
    {
     "name": "stdout",
     "output_type": "stream",
     "text": [
      "Subject1=  23\n",
      "Subject2=  45\n",
      "Subject3=  34\n",
      "Subject4=  23\n",
      "Subject5=  23\n",
      "Total:  148\n",
      "Perentage :  29.599999999999998\n"
     ]
    }
   ],
   "source": [
    "percentage()"
   ]
  },
  {
   "cell_type": "code",
   "execution_count": 9,
   "id": "65747db7",
   "metadata": {},
   "outputs": [],
   "source": [
    "def triangle():\n",
    "    Height=int(input(\"Height:\"))\n",
    "    Breadth=int(input(\"Breadth:\"))\n",
    "    print(\"Area formula: (Height*Breadth)/2\")\n",
    "    print(\"Area of Triangle:\", (Height/Breadth)/2)\n",
    "    Height1=int(input(\"Height1:\"))\n",
    "    Height2=int(input(\"Height2:\"))\n",
    "    Breadth=int(input(\"Breadth:\"))\n",
    "    print(\"Perimeter formula: Height1+Height2+Breadth\")\n",
    "    print(\"Perimeter of Triangle: \",Height1+Height2+Breadth)"
   ]
  },
  {
   "cell_type": "code",
   "execution_count": 10,
   "id": "b93d580e",
   "metadata": {
    "scrolled": true
   },
   "outputs": [
    {
     "name": "stdout",
     "output_type": "stream",
     "text": [
      "Height:3\n",
      "Breadth:4\n",
      "Area formula: (Height*Breadth)/2\n",
      "Area of Triangle: 0.375\n",
      "Height1:3\n",
      "Height2:3\n",
      "Breadth:4\n",
      "Perimeter formula: Height1+Height2+Breadth\n",
      "Perimeter of Triangle:  10\n"
     ]
    }
   ],
   "source": [
    "triangle()"
   ]
  },
  {
   "cell_type": "code",
   "execution_count": null,
   "id": "105fff39",
   "metadata": {},
   "outputs": [],
   "source": []
  }
 ],
 "metadata": {
  "kernelspec": {
   "display_name": "Python 3 (ipykernel)",
   "language": "python",
   "name": "python3"
  },
  "language_info": {
   "codemirror_mode": {
    "name": "ipython",
    "version": 3
   },
   "file_extension": ".py",
   "mimetype": "text/x-python",
   "name": "python",
   "nbconvert_exporter": "python",
   "pygments_lexer": "ipython3",
   "version": "3.11.5"
  }
 },
 "nbformat": 4,
 "nbformat_minor": 5
}
