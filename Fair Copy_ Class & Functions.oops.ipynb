{
 "cells": [
  {
   "cell_type": "code",
   "execution_count": null,
   "id": "19a11de5",
   "metadata": {},
   "outputs": [],
   "source": [
    "from multipleFunctions import multipleFunctions\n",
    "#from filename import className"
   ]
  },
  {
   "cell_type": "code",
   "execution_count": null,
   "id": "afecf098",
   "metadata": {},
   "outputs": [],
   "source": [
    "multipleFunctions.BMI()\n",
    "#className.Functionsname()"
   ]
  },
  {
   "cell_type": "code",
   "execution_count": 4,
   "id": "0e0284f5",
   "metadata": {},
   "outputs": [],
   "source": [
    "class SubfieldsInAI():\n",
    "    def Subfields():\n",
    "        print(\"Sub-filelds in AI are:\")\n",
    "        List=['Machine Learninig','Neural Networks','Natural Language processing','Speech Processing']\n",
    "        for temp in List:\n",
    "            print(temp)"
   ]
  },
  {
   "cell_type": "code",
   "execution_count": 5,
   "id": "6b053721",
   "metadata": {},
   "outputs": [
    {
     "name": "stdout",
     "output_type": "stream",
     "text": [
      "Sub-filelds in AI are:\n",
      "Machine Learninig\n",
      "Neural Networks\n",
      "Natural Language processing\n",
      "Speech Processing\n"
     ]
    }
   ],
   "source": [
    "SubfieldsInAI.Subfields()"
   ]
  },
  {
   "cell_type": "code",
   "execution_count": 6,
   "id": "1427fa76",
   "metadata": {},
   "outputs": [],
   "source": [
    "class OddEven():\n",
    "  def OddEven():\n",
    "        num=int(input(\"Enter a number:\"))\n",
    "        if(num%2)==0:\n",
    "            print(\"{0}is Even number\".format(num))\n",
    "        else:\n",
    "            print(\"{0}is Odd number\".format(num))"
   ]
  },
  {
   "cell_type": "code",
   "execution_count": 7,
   "id": "6f523035",
   "metadata": {},
   "outputs": [
    {
     "name": "stdout",
     "output_type": "stream",
     "text": [
      "Enter a number:53452\n",
      "53452is Even number\n"
     ]
    }
   ],
   "source": [
    "OddEven.OddEven()"
   ]
  },
  {
   "cell_type": "code",
   "execution_count": 8,
   "id": "59f54324",
   "metadata": {},
   "outputs": [],
   "source": [
    "class ElegiblityForMarriage():\n",
    "    def Elegible():\n",
    "        gender=input(\"Your Gender:\")\n",
    "        age=int(input(\"Your age\"))\n",
    "        \n",
    "        if(gender=='Male'):\n",
    "            if(age>=21):\n",
    "                print('ELIGIBLE')\n",
    "            else:\n",
    "                print('NOT ELIGIBLE')\n",
    "        elif(gender=='Female'):         \n",
    "            if(age>18):\n",
    "                    print('ELIGIBLE')\n",
    "            else:\n",
    "                print('NOT ELIGIBLE')"
   ]
  },
  {
   "cell_type": "code",
   "execution_count": 9,
   "id": "dcf573a5",
   "metadata": {},
   "outputs": [
    {
     "name": "stdout",
     "output_type": "stream",
     "text": [
      "Your Gender:Female\n",
      "Your age19\n",
      "ELIGIBLE\n"
     ]
    }
   ],
   "source": [
    "ElegiblityForMarriage.Elegible()"
   ]
  },
  {
   "cell_type": "code",
   "execution_count": 10,
   "id": "a3444530",
   "metadata": {},
   "outputs": [],
   "source": [
    "def percentage():\n",
    "    m1=int(input(\"Subject1=  \"))\n",
    "    m2=int(input(\"Subject2=  \"))\n",
    "    m3=int(input(\"Subject3=  \"))\n",
    "    m4=int(input(\"Subject4=  \"))\n",
    "    m5=int(input(\"Subject5=  \"))\n",
    "    Total = m1+m2+m3+m4+m5\n",
    "    print(\"Total: \" ,m1+m2+m3+m4+m5)\n",
    "    Percent = (Total / 500) * 100\n",
    "    print(\"Perentage : \",Percent)"
   ]
  },
  {
   "cell_type": "code",
   "execution_count": null,
   "id": "8f0d1888",
   "metadata": {},
   "outputs": [
    {
     "name": "stdout",
     "output_type": "stream",
     "text": [
      "Subject1=  45\n"
     ]
    }
   ],
   "source": [
    "percentage()"
   ]
  },
  {
   "cell_type": "code",
   "execution_count": null,
   "id": "18c2f824",
   "metadata": {},
   "outputs": [],
   "source": [
    "def triangle():\n",
    "    Height=int(input(\"Height:\"))\n",
    "    Breadth=int(input(\"Breadth:\"))\n",
    "    print(\"Area formula: (Height*Breadth)/2\")\n",
    "    print(\"Area of Triangle:\", (Height/Breadth)/2)\n",
    "    Height1=int(input(\"Height1:\"))\n",
    "    Height2=int(input(\"Height2:\"))\n",
    "    Breadth=int(input(\"Breadth:\"))\n",
    "    print(\"Perimeter formula: Height1+Height2+Breadth\")\n",
    "    print(\"Perimeter of Triangle: \",Height1+Height2+Breadth)"
   ]
  }
 ],
 "metadata": {
  "kernelspec": {
   "display_name": "Python 3 (ipykernel)",
   "language": "python",
   "name": "python3"
  },
  "language_info": {
   "codemirror_mode": {
    "name": "ipython",
    "version": 3
   },
   "file_extension": ".py",
   "mimetype": "text/x-python",
   "name": "python",
   "nbconvert_exporter": "python",
   "pygments_lexer": "ipython3",
   "version": "3.11.5"
  }
 },
 "nbformat": 4,
 "nbformat_minor": 5
}
